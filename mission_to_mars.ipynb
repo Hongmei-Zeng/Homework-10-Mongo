{
 "cells": [
  {
   "cell_type": "code",
   "execution_count": 1,
   "metadata": {},
   "outputs": [
    {
     "data": {
      "application/javascript": [
       "\n",
       "            setTimeout(function() {\n",
       "                var nbb_cell_id = 1;\n",
       "                var nbb_unformatted_code = \"%load_ext nb_black\";\n",
       "                var nbb_formatted_code = \"%load_ext nb_black\";\n",
       "                var nbb_cells = Jupyter.notebook.get_cells();\n",
       "                for (var i = 0; i < nbb_cells.length; ++i) {\n",
       "                    if (nbb_cells[i].input_prompt_number == nbb_cell_id) {\n",
       "                        if (nbb_cells[i].get_text() == nbb_unformatted_code) {\n",
       "                             nbb_cells[i].set_text(nbb_formatted_code);\n",
       "                        }\n",
       "                        break;\n",
       "                    }\n",
       "                }\n",
       "            }, 500);\n",
       "            "
      ],
      "text/plain": [
       "<IPython.core.display.Javascript object>"
      ]
     },
     "metadata": {},
     "output_type": "display_data"
    }
   ],
   "source": [
    "%load_ext nb_black"
   ]
  },
  {
   "cell_type": "code",
   "execution_count": 2,
   "metadata": {},
   "outputs": [
    {
     "data": {
      "application/javascript": [
       "\n",
       "            setTimeout(function() {\n",
       "                var nbb_cell_id = 2;\n",
       "                var nbb_unformatted_code = \"import requests\\nimport pandas as pd\\nfrom bs4 import BeautifulSoup\\nfrom selenium import webdriver\\nfrom pprint import pprint\";\n",
       "                var nbb_formatted_code = \"import requests\\nimport pandas as pd\\nfrom bs4 import BeautifulSoup\\nfrom selenium import webdriver\\nfrom pprint import pprint\";\n",
       "                var nbb_cells = Jupyter.notebook.get_cells();\n",
       "                for (var i = 0; i < nbb_cells.length; ++i) {\n",
       "                    if (nbb_cells[i].input_prompt_number == nbb_cell_id) {\n",
       "                        if (nbb_cells[i].get_text() == nbb_unformatted_code) {\n",
       "                             nbb_cells[i].set_text(nbb_formatted_code);\n",
       "                        }\n",
       "                        break;\n",
       "                    }\n",
       "                }\n",
       "            }, 500);\n",
       "            "
      ],
      "text/plain": [
       "<IPython.core.display.Javascript object>"
      ]
     },
     "metadata": {},
     "output_type": "display_data"
    }
   ],
   "source": [
    "import requests\n",
    "import pandas as pd\n",
    "from bs4 import BeautifulSoup\n",
    "from selenium import webdriver\n",
    "from pprint import pprint"
   ]
  },
  {
   "cell_type": "markdown",
   "metadata": {},
   "source": [
    "### NASA Mars News"
   ]
  },
  {
   "cell_type": "code",
   "execution_count": 3,
   "metadata": {
    "scrolled": true
   },
   "outputs": [
    {
     "name": "stdout",
     "output_type": "stream",
     "text": [
      "\n",
      "\n",
      "Virginia Middle School Student Earns Honor of Naming NASA's Next Mars Rover\n",
      "\n",
      "\n",
      "NASA chose a seventh-grader from Virginia as winner of the agency's \"Name the Rover\" essay contest. Alexander Mather's entry for \"Perseverance\" was voted tops among 28,000 entries. \n"
     ]
    },
    {
     "data": {
      "application/javascript": [
       "\n",
       "            setTimeout(function() {\n",
       "                var nbb_cell_id = 3;\n",
       "                var nbb_unformatted_code = \"URL_1 = \\\"https://mars.nasa.gov/news/\\\"\\n\\nhtml_text = requests.get(URL_1).text\\nsoup = BeautifulSoup(html_text, \\\"html.parser\\\")\\nnews_title = soup.find_all(\\\"div\\\", class_=\\\"content_title\\\")[0].text\\n\\nFILE = \\\"html-selenium.txt\\\"\\nFILE_WAIT = \\\"html-selenium-wait.txt\\\"\\ndriver = webdriver.Firefox()\\ndriver.get(URL_1)\\nhtml = driver.page_source\\nwith open(FILE, \\\"w+\\\", encoding=\\\"utf-8\\\") as f:\\n    f.write(html)\\ndriver.get(URL_1)\\ndriver.implicitly_wait(10)\\nhtml = driver.page_source\\ndriver.close()\\nwith open(FILE_WAIT, \\\"w+\\\", encoding=\\\"utf-8\\\") as f:\\n    f.write(html)    \\nsoup = BeautifulSoup(html, \\\"html.parser\\\")\\nnews_p = soup.find_all(\\\"div\\\", class_=\\\"article_teaser_body\\\")[0].text\\n\\nprint(news_title)\\nprint(news_p)\";\n",
       "                var nbb_formatted_code = \"URL_1 = \\\"https://mars.nasa.gov/news/\\\"\\n\\nhtml_text = requests.get(URL_1).text\\nsoup = BeautifulSoup(html_text, \\\"html.parser\\\")\\nnews_title = soup.find_all(\\\"div\\\", class_=\\\"content_title\\\")[0].text\\n\\nFILE = \\\"html-selenium.txt\\\"\\nFILE_WAIT = \\\"html-selenium-wait.txt\\\"\\ndriver = webdriver.Firefox()\\ndriver.get(URL_1)\\nhtml = driver.page_source\\nwith open(FILE, \\\"w+\\\", encoding=\\\"utf-8\\\") as f:\\n    f.write(html)\\ndriver.get(URL_1)\\ndriver.implicitly_wait(10)\\nhtml = driver.page_source\\ndriver.close()\\nwith open(FILE_WAIT, \\\"w+\\\", encoding=\\\"utf-8\\\") as f:\\n    f.write(html)\\nsoup = BeautifulSoup(html, \\\"html.parser\\\")\\nnews_p = soup.find_all(\\\"div\\\", class_=\\\"article_teaser_body\\\")[0].text\\n\\nprint(news_title)\\nprint(news_p)\";\n",
       "                var nbb_cells = Jupyter.notebook.get_cells();\n",
       "                for (var i = 0; i < nbb_cells.length; ++i) {\n",
       "                    if (nbb_cells[i].input_prompt_number == nbb_cell_id) {\n",
       "                        if (nbb_cells[i].get_text() == nbb_unformatted_code) {\n",
       "                             nbb_cells[i].set_text(nbb_formatted_code);\n",
       "                        }\n",
       "                        break;\n",
       "                    }\n",
       "                }\n",
       "            }, 500);\n",
       "            "
      ],
      "text/plain": [
       "<IPython.core.display.Javascript object>"
      ]
     },
     "metadata": {},
     "output_type": "display_data"
    }
   ],
   "source": [
    "URL_1 = \"https://mars.nasa.gov/news/\"\n",
    "\n",
    "html_text = requests.get(URL_1).text\n",
    "soup = BeautifulSoup(html_text, \"html.parser\")\n",
    "news_title = soup.find_all(\"div\", class_=\"content_title\")[0].text\n",
    "\n",
    "FILE = \"html-selenium.txt\"\n",
    "FILE_WAIT = \"html-selenium-wait.txt\"\n",
    "driver = webdriver.Firefox()\n",
    "driver.get(URL_1)\n",
    "html = driver.page_source\n",
    "with open(FILE, \"w+\", encoding=\"utf-8\") as f:\n",
    "    f.write(html)\n",
    "driver.get(URL_1)\n",
    "driver.implicitly_wait(10)\n",
    "html = driver.page_source\n",
    "driver.close()\n",
    "with open(FILE_WAIT, \"w+\", encoding=\"utf-8\") as f:\n",
    "    f.write(html)\n",
    "soup = BeautifulSoup(html, \"html.parser\")\n",
    "news_p = soup.find_all(\"div\", class_=\"article_teaser_body\")[0].text\n",
    "\n",
    "print(news_title)\n",
    "print(news_p)"
   ]
  },
  {
   "cell_type": "markdown",
   "metadata": {},
   "source": [
    "### JPL Mars Space Images - Featured Image"
   ]
  },
  {
   "cell_type": "code",
   "execution_count": 4,
   "metadata": {},
   "outputs": [
    {
     "data": {
      "text/plain": [
       "'https://www.jpl.nasa.gov/spaceimages/images/mediumsize/PIA17794_ip.jpg'"
      ]
     },
     "execution_count": 4,
     "metadata": {},
     "output_type": "execute_result"
    },
    {
     "data": {
      "application/javascript": [
       "\n",
       "            setTimeout(function() {\n",
       "                var nbb_cell_id = 4;\n",
       "                var nbb_unformatted_code = \"URL_2 = \\\"https://www.jpl.nasa.gov/spaceimages/?search=&category=Mars\\\"\\nhtml_text = requests.get(URL_2).text\\nsoup = BeautifulSoup(html_text, \\\"lxml\\\")\\narticle = soup.find(\\\"article\\\", class_=\\\"carousel_item\\\")\\n\\npic_src = article.find(\\\"a\\\", class_=\\\"button fancybox\\\")[\\\"data-fancybox-href\\\"]\\npic_id = pic_src.split(\\\"/\\\")[4]\\npic_id = pic_id.split(\\\"_\\\")[0]\\n\\nfeatured_image_url = (\\n    f\\\"https://www.jpl.nasa.gov/spaceimages/images/mediumsize/{pic_id}_ip.jpg\\\"\\n)\\nfeatured_image_url\";\n",
       "                var nbb_formatted_code = \"URL_2 = \\\"https://www.jpl.nasa.gov/spaceimages/?search=&category=Mars\\\"\\nhtml_text = requests.get(URL_2).text\\nsoup = BeautifulSoup(html_text, \\\"lxml\\\")\\narticle = soup.find(\\\"article\\\", class_=\\\"carousel_item\\\")\\n\\npic_src = article.find(\\\"a\\\", class_=\\\"button fancybox\\\")[\\\"data-fancybox-href\\\"]\\npic_id = pic_src.split(\\\"/\\\")[4]\\npic_id = pic_id.split(\\\"_\\\")[0]\\n\\nfeatured_image_url = (\\n    f\\\"https://www.jpl.nasa.gov/spaceimages/images/mediumsize/{pic_id}_ip.jpg\\\"\\n)\\nfeatured_image_url\";\n",
       "                var nbb_cells = Jupyter.notebook.get_cells();\n",
       "                for (var i = 0; i < nbb_cells.length; ++i) {\n",
       "                    if (nbb_cells[i].input_prompt_number == nbb_cell_id) {\n",
       "                        if (nbb_cells[i].get_text() == nbb_unformatted_code) {\n",
       "                             nbb_cells[i].set_text(nbb_formatted_code);\n",
       "                        }\n",
       "                        break;\n",
       "                    }\n",
       "                }\n",
       "            }, 500);\n",
       "            "
      ],
      "text/plain": [
       "<IPython.core.display.Javascript object>"
      ]
     },
     "metadata": {},
     "output_type": "display_data"
    }
   ],
   "source": [
    "URL_2 = \"https://www.jpl.nasa.gov/spaceimages/?search=&category=Mars\"\n",
    "html_text = requests.get(URL_2).text\n",
    "soup = BeautifulSoup(html_text, \"lxml\")\n",
    "article = soup.find(\"article\", class_=\"carousel_item\")\n",
    "\n",
    "pic_src = article.find(\"a\", class_=\"button fancybox\")[\"data-fancybox-href\"]\n",
    "pic_id = pic_src.split(\"/\")[4]\n",
    "pic_id = pic_id.split(\"_\")[0]\n",
    "\n",
    "featured_image_url = (\n",
    "    f\"https://www.jpl.nasa.gov/spaceimages/images/mediumsize/{pic_id}_ip.jpg\"\n",
    ")\n",
    "featured_image_url"
   ]
  },
  {
   "cell_type": "markdown",
   "metadata": {},
   "source": [
    "### Mars Weather"
   ]
  },
  {
   "cell_type": "code",
   "execution_count": 5,
   "metadata": {},
   "outputs": [
    {
     "data": {
      "text/plain": [
       "'InSight sol 457 (2020-03-10) low -95.7ºC (-140.3ºF) high -9.1ºC (15.6ºF)\\nwinds from the SSE at 6.5 m/s (14.5 mph) gusting to 21.0 m/s (46.9 mph)\\npressure at 6.30 hPa'"
      ]
     },
     "execution_count": 5,
     "metadata": {},
     "output_type": "execute_result"
    },
    {
     "data": {
      "application/javascript": [
       "\n",
       "            setTimeout(function() {\n",
       "                var nbb_cell_id = 5;\n",
       "                var nbb_unformatted_code = \"URL_3 = \\\"https://twitter.com/marswxreport?lang=en\\\"\\nhtml_text = requests.get(URL_3).text\\nsoup = BeautifulSoup(html_text, \\\"lxml\\\")\\n\\nall_tweet_p = soup.find_all(\\n    \\\"p\\\", class_=\\\"TweetTextSize TweetTextSize--normal js-tweet-text tweet-text\\\"\\n)\\nlatest_tweet_p = all_tweet_p[0]\\n\\nmars_weather = list(latest_tweet_p.children)[0]\\nmars_weather\";\n",
       "                var nbb_formatted_code = \"URL_3 = \\\"https://twitter.com/marswxreport?lang=en\\\"\\nhtml_text = requests.get(URL_3).text\\nsoup = BeautifulSoup(html_text, \\\"lxml\\\")\\n\\nall_tweet_p = soup.find_all(\\n    \\\"p\\\", class_=\\\"TweetTextSize TweetTextSize--normal js-tweet-text tweet-text\\\"\\n)\\nlatest_tweet_p = all_tweet_p[0]\\n\\nmars_weather = list(latest_tweet_p.children)[0]\\nmars_weather\";\n",
       "                var nbb_cells = Jupyter.notebook.get_cells();\n",
       "                for (var i = 0; i < nbb_cells.length; ++i) {\n",
       "                    if (nbb_cells[i].input_prompt_number == nbb_cell_id) {\n",
       "                        if (nbb_cells[i].get_text() == nbb_unformatted_code) {\n",
       "                             nbb_cells[i].set_text(nbb_formatted_code);\n",
       "                        }\n",
       "                        break;\n",
       "                    }\n",
       "                }\n",
       "            }, 500);\n",
       "            "
      ],
      "text/plain": [
       "<IPython.core.display.Javascript object>"
      ]
     },
     "metadata": {},
     "output_type": "display_data"
    }
   ],
   "source": [
    "URL_3 = \"https://twitter.com/marswxreport?lang=en\"\n",
    "html_text = requests.get(URL_3).text\n",
    "soup = BeautifulSoup(html_text, \"lxml\")\n",
    "\n",
    "all_tweet_p = soup.find_all(\n",
    "    \"p\", class_=\"TweetTextSize TweetTextSize--normal js-tweet-text tweet-text\"\n",
    ")\n",
    "latest_tweet_p = all_tweet_p[0]\n",
    "\n",
    "mars_weather = list(latest_tweet_p.children)[0]\n",
    "mars_weather"
   ]
  },
  {
   "cell_type": "markdown",
   "metadata": {},
   "source": [
    "###  Mars Facts"
   ]
  },
  {
   "cell_type": "code",
   "execution_count": 6,
   "metadata": {},
   "outputs": [
    {
     "data": {
      "text/html": [
       "<div>\n",
       "<style scoped>\n",
       "    .dataframe tbody tr th:only-of-type {\n",
       "        vertical-align: middle;\n",
       "    }\n",
       "\n",
       "    .dataframe tbody tr th {\n",
       "        vertical-align: top;\n",
       "    }\n",
       "\n",
       "    .dataframe thead th {\n",
       "        text-align: right;\n",
       "    }\n",
       "</style>\n",
       "<table border=\"1\" class=\"dataframe\">\n",
       "  <thead>\n",
       "    <tr style=\"text-align: right;\">\n",
       "      <th></th>\n",
       "      <th>facts</th>\n",
       "      <th>values</th>\n",
       "    </tr>\n",
       "  </thead>\n",
       "  <tbody>\n",
       "    <tr>\n",
       "      <th>0</th>\n",
       "      <td>Equatorial Diameter</td>\n",
       "      <td>6,792 km</td>\n",
       "    </tr>\n",
       "    <tr>\n",
       "      <th>1</th>\n",
       "      <td>Polar Diameter</td>\n",
       "      <td>6,752 km</td>\n",
       "    </tr>\n",
       "    <tr>\n",
       "      <th>2</th>\n",
       "      <td>Mass</td>\n",
       "      <td>6.39 × 10^23 kg (0.11 Earths)</td>\n",
       "    </tr>\n",
       "    <tr>\n",
       "      <th>3</th>\n",
       "      <td>Moons</td>\n",
       "      <td>2 (Phobos &amp; Deimos)</td>\n",
       "    </tr>\n",
       "    <tr>\n",
       "      <th>4</th>\n",
       "      <td>Orbit Distance</td>\n",
       "      <td>227,943,824 km (1.38 AU)</td>\n",
       "    </tr>\n",
       "    <tr>\n",
       "      <th>5</th>\n",
       "      <td>Orbit Period</td>\n",
       "      <td>687 days (1.9 years)</td>\n",
       "    </tr>\n",
       "    <tr>\n",
       "      <th>6</th>\n",
       "      <td>Surface Temperature</td>\n",
       "      <td>-87 to -5 °C</td>\n",
       "    </tr>\n",
       "    <tr>\n",
       "      <th>7</th>\n",
       "      <td>First Record</td>\n",
       "      <td>2nd millennium BC</td>\n",
       "    </tr>\n",
       "    <tr>\n",
       "      <th>8</th>\n",
       "      <td>Recorded By</td>\n",
       "      <td>Egyptian astronomers</td>\n",
       "    </tr>\n",
       "  </tbody>\n",
       "</table>\n",
       "</div>"
      ],
      "text/plain": [
       "                 facts                         values\n",
       "0  Equatorial Diameter                       6,792 km\n",
       "1       Polar Diameter                       6,752 km\n",
       "2                 Mass  6.39 × 10^23 kg (0.11 Earths)\n",
       "3                Moons            2 (Phobos & Deimos)\n",
       "4       Orbit Distance       227,943,824 km (1.38 AU)\n",
       "5         Orbit Period           687 days (1.9 years)\n",
       "6  Surface Temperature                   -87 to -5 °C\n",
       "7         First Record              2nd millennium BC\n",
       "8          Recorded By           Egyptian astronomers"
      ]
     },
     "execution_count": 6,
     "metadata": {},
     "output_type": "execute_result"
    },
    {
     "data": {
      "application/javascript": [
       "\n",
       "            setTimeout(function() {\n",
       "                var nbb_cell_id = 6;\n",
       "                var nbb_unformatted_code = \"URL_4 = \\\"https://space-facts.com/mars/\\\"\\nhtml_text = requests.get(URL_4).text\\n\\ndf = pd.read_html(html_text)[0]\\ndf.rename(columns={0: \\\"facts\\\", 1: \\\"values\\\"}, inplace=True)\\ndf[\\\"facts\\\"] = df[\\\"facts\\\"].str.replace(\\\":\\\", \\\"\\\")\\ndf\";\n",
       "                var nbb_formatted_code = \"URL_4 = \\\"https://space-facts.com/mars/\\\"\\nhtml_text = requests.get(URL_4).text\\n\\ndf = pd.read_html(html_text)[0]\\ndf.rename(columns={0: \\\"facts\\\", 1: \\\"values\\\"}, inplace=True)\\ndf[\\\"facts\\\"] = df[\\\"facts\\\"].str.replace(\\\":\\\", \\\"\\\")\\ndf\";\n",
       "                var nbb_cells = Jupyter.notebook.get_cells();\n",
       "                for (var i = 0; i < nbb_cells.length; ++i) {\n",
       "                    if (nbb_cells[i].input_prompt_number == nbb_cell_id) {\n",
       "                        if (nbb_cells[i].get_text() == nbb_unformatted_code) {\n",
       "                             nbb_cells[i].set_text(nbb_formatted_code);\n",
       "                        }\n",
       "                        break;\n",
       "                    }\n",
       "                }\n",
       "            }, 500);\n",
       "            "
      ],
      "text/plain": [
       "<IPython.core.display.Javascript object>"
      ]
     },
     "metadata": {},
     "output_type": "display_data"
    }
   ],
   "source": [
    "URL_4 = \"https://space-facts.com/mars/\"\n",
    "html_text = requests.get(URL_4).text\n",
    "\n",
    "df = pd.read_html(html_text)[0]\n",
    "df.rename(columns={0: \"facts\", 1: \"values\"}, inplace=True)\n",
    "df[\"facts\"] = df[\"facts\"].str.replace(\":\", \"\")\n",
    "df"
   ]
  },
  {
   "cell_type": "code",
   "execution_count": 7,
   "metadata": {},
   "outputs": [
    {
     "name": "stdout",
     "output_type": "stream",
     "text": [
      "('<table border=\"1\" class=\"dataframe\">\\n'\n",
      " '  <thead>\\n'\n",
      " '    <tr style=\"text-align: right;\">\\n'\n",
      " '      <th></th>\\n'\n",
      " '      <th>facts</th>\\n'\n",
      " '      <th>values</th>\\n'\n",
      " '    </tr>\\n'\n",
      " '  </thead>\\n'\n",
      " '  <tbody>\\n'\n",
      " '    <tr>\\n'\n",
      " '      <th>0</th>\\n'\n",
      " '      <td>Equatorial Diameter</td>\\n'\n",
      " '      <td>6,792 km</td>\\n'\n",
      " '    </tr>\\n'\n",
      " '    <tr>\\n'\n",
      " '      <th>1</th>\\n'\n",
      " '      <td>Polar Diameter</td>\\n'\n",
      " '      <td>6,752 km</td>\\n'\n",
      " '    </tr>\\n'\n",
      " '    <tr>\\n'\n",
      " '      <th>2</th>\\n'\n",
      " '      <td>Mass</td>\\n'\n",
      " '      <td>6.39 × 10^23 kg (0.11 Earths)</td>\\n'\n",
      " '    </tr>\\n'\n",
      " '    <tr>\\n'\n",
      " '      <th>3</th>\\n'\n",
      " '      <td>Moons</td>\\n'\n",
      " '      <td>2 (Phobos &amp; Deimos)</td>\\n'\n",
      " '    </tr>\\n'\n",
      " '    <tr>\\n'\n",
      " '      <th>4</th>\\n'\n",
      " '      <td>Orbit Distance</td>\\n'\n",
      " '      <td>227,943,824 km (1.38 AU)</td>\\n'\n",
      " '    </tr>\\n'\n",
      " '    <tr>\\n'\n",
      " '      <th>5</th>\\n'\n",
      " '      <td>Orbit Period</td>\\n'\n",
      " '      <td>687 days (1.9 years)</td>\\n'\n",
      " '    </tr>\\n'\n",
      " '    <tr>\\n'\n",
      " '      <th>6</th>\\n'\n",
      " '      <td>Surface Temperature</td>\\n'\n",
      " '      <td>-87 to -5 °C</td>\\n'\n",
      " '    </tr>\\n'\n",
      " '    <tr>\\n'\n",
      " '      <th>7</th>\\n'\n",
      " '      <td>First Record</td>\\n'\n",
      " '      <td>2nd millennium BC</td>\\n'\n",
      " '    </tr>\\n'\n",
      " '    <tr>\\n'\n",
      " '      <th>8</th>\\n'\n",
      " '      <td>Recorded By</td>\\n'\n",
      " '      <td>Egyptian astronomers</td>\\n'\n",
      " '    </tr>\\n'\n",
      " '  </tbody>\\n'\n",
      " '</table>')\n"
     ]
    },
    {
     "data": {
      "application/javascript": [
       "\n",
       "            setTimeout(function() {\n",
       "                var nbb_cell_id = 7;\n",
       "                var nbb_unformatted_code = \"facts_tb_html = df.to_html()\\npprint(facts_tb_html)\";\n",
       "                var nbb_formatted_code = \"facts_tb_html = df.to_html()\\npprint(facts_tb_html)\";\n",
       "                var nbb_cells = Jupyter.notebook.get_cells();\n",
       "                for (var i = 0; i < nbb_cells.length; ++i) {\n",
       "                    if (nbb_cells[i].input_prompt_number == nbb_cell_id) {\n",
       "                        if (nbb_cells[i].get_text() == nbb_unformatted_code) {\n",
       "                             nbb_cells[i].set_text(nbb_formatted_code);\n",
       "                        }\n",
       "                        break;\n",
       "                    }\n",
       "                }\n",
       "            }, 500);\n",
       "            "
      ],
      "text/plain": [
       "<IPython.core.display.Javascript object>"
      ]
     },
     "metadata": {},
     "output_type": "display_data"
    }
   ],
   "source": [
    "facts_tb_html = df.to_html()\n",
    "pprint(facts_tb_html)"
   ]
  },
  {
   "cell_type": "markdown",
   "metadata": {},
   "source": [
    "###  Mars Hemisphers"
   ]
  },
  {
   "cell_type": "code",
   "execution_count": 8,
   "metadata": {
    "scrolled": true
   },
   "outputs": [
    {
     "data": {
      "text/plain": [
       "[{'title': 'Cerberus Hemisphere',\n",
       "  'img_url': 'https://astrogeology.usgs.gov/cache/images/cfa62af2557222a02478f1fcd781d445_cerberus_enhanced.tif_full.jpg'},\n",
       " {'title': 'Schiaparelli Hemisphere',\n",
       "  'img_url': 'https://astrogeology.usgs.gov/cache/images/3cdd1cbf5e0813bba925c9030d13b62e_schiaparelli_enhanced.tif_full.jpg'},\n",
       " {'title': 'Syrtis Major Hemisphere',\n",
       "  'img_url': 'https://astrogeology.usgs.gov/cache/images/ae209b4e408bb6c3e67b6af38168cf28_syrtis_major_enhanced.tif_full.jpg'},\n",
       " {'title': 'Valles Marineris Hemisphere',\n",
       "  'img_url': 'https://astrogeology.usgs.gov/cache/images/7cf2da4bf549ed01c17f206327be4db7_valles_marineris_enhanced.tif_full.jpg'}]"
      ]
     },
     "execution_count": 8,
     "metadata": {},
     "output_type": "execute_result"
    },
    {
     "data": {
      "application/javascript": [
       "\n",
       "            setTimeout(function() {\n",
       "                var nbb_cell_id = 8;\n",
       "                var nbb_unformatted_code = \"BASE_URL = \\\"https://astrogeology.usgs.gov/search/results?q=hemisphere+enhanced&k1=target&v1=Mars\\\"\\nURL_5 = \\\"https://astrogeology.usgs.gov/search/map/Mars/Viking/cerberus_enhanced\\\"\\nURL_6 = \\\"https://astrogeology.usgs.gov/search/map/Mars/Viking/schiaparelli_enhanced\\\"\\nURL_7 = \\\"https://astrogeology.usgs.gov/search/map/Mars/Viking/syrtis_major_enhanced\\\"\\nURL_8 = \\\"https://astrogeology.usgs.gov/search/map/Mars/Viking/valles_marineris_enhanced\\\"\\n\\n\\ndef get_url_result(URL):\\n    html_text = requests.get(URL).text\\n    soup = BeautifulSoup(html_text, \\\"lxml\\\")\\n    article = soup.find(\\\"div\\\", class_=\\\"container\\\")\\n    title_text = article.h2.get_text()\\n    hemisphere_name = title_text.split(\\\" Enhanced\\\")[0]\\n    image_src = article.find(\\\"img\\\", class_=\\\"wide-image\\\")[\\\"src\\\"]\\n    image_id = image_src.split(\\\"/\\\")[3].split(\\\"_enhanced.tif\\\")[0]\\n    return {\\n        \\\"title\\\": hemisphere_name,\\n        \\\"img_url\\\": f\\\"https://astrogeology.usgs.gov/cache/images/{image_id}_enhanced.tif_full.jpg\\\",\\n    }\\n\\n\\nURL_ls = [URL_5, URL_6, URL_7, URL_8]\\nhemisphere_image_url = [get_url_result(URL) for URL in URL_ls]\\nhemisphere_image_url\";\n",
       "                var nbb_formatted_code = \"BASE_URL = \\\"https://astrogeology.usgs.gov/search/results?q=hemisphere+enhanced&k1=target&v1=Mars\\\"\\nURL_5 = \\\"https://astrogeology.usgs.gov/search/map/Mars/Viking/cerberus_enhanced\\\"\\nURL_6 = \\\"https://astrogeology.usgs.gov/search/map/Mars/Viking/schiaparelli_enhanced\\\"\\nURL_7 = \\\"https://astrogeology.usgs.gov/search/map/Mars/Viking/syrtis_major_enhanced\\\"\\nURL_8 = \\\"https://astrogeology.usgs.gov/search/map/Mars/Viking/valles_marineris_enhanced\\\"\\n\\n\\ndef get_url_result(URL):\\n    html_text = requests.get(URL).text\\n    soup = BeautifulSoup(html_text, \\\"lxml\\\")\\n    article = soup.find(\\\"div\\\", class_=\\\"container\\\")\\n    title_text = article.h2.get_text()\\n    hemisphere_name = title_text.split(\\\" Enhanced\\\")[0]\\n    image_src = article.find(\\\"img\\\", class_=\\\"wide-image\\\")[\\\"src\\\"]\\n    image_id = image_src.split(\\\"/\\\")[3].split(\\\"_enhanced.tif\\\")[0]\\n    return {\\n        \\\"title\\\": hemisphere_name,\\n        \\\"img_url\\\": f\\\"https://astrogeology.usgs.gov/cache/images/{image_id}_enhanced.tif_full.jpg\\\",\\n    }\\n\\n\\nURL_ls = [URL_5, URL_6, URL_7, URL_8]\\nhemisphere_image_url = [get_url_result(URL) for URL in URL_ls]\\nhemisphere_image_url\";\n",
       "                var nbb_cells = Jupyter.notebook.get_cells();\n",
       "                for (var i = 0; i < nbb_cells.length; ++i) {\n",
       "                    if (nbb_cells[i].input_prompt_number == nbb_cell_id) {\n",
       "                        if (nbb_cells[i].get_text() == nbb_unformatted_code) {\n",
       "                             nbb_cells[i].set_text(nbb_formatted_code);\n",
       "                        }\n",
       "                        break;\n",
       "                    }\n",
       "                }\n",
       "            }, 500);\n",
       "            "
      ],
      "text/plain": [
       "<IPython.core.display.Javascript object>"
      ]
     },
     "metadata": {},
     "output_type": "display_data"
    }
   ],
   "source": [
    "BASE_URL = \"https://astrogeology.usgs.gov/search/results?q=hemisphere+enhanced&k1=target&v1=Mars\"\n",
    "URL_5 = \"https://astrogeology.usgs.gov/search/map/Mars/Viking/cerberus_enhanced\"\n",
    "URL_6 = \"https://astrogeology.usgs.gov/search/map/Mars/Viking/schiaparelli_enhanced\"\n",
    "URL_7 = \"https://astrogeology.usgs.gov/search/map/Mars/Viking/syrtis_major_enhanced\"\n",
    "URL_8 = \"https://astrogeology.usgs.gov/search/map/Mars/Viking/valles_marineris_enhanced\"\n",
    "\n",
    "\n",
    "def get_url_result(URL):\n",
    "    html_text = requests.get(URL).text\n",
    "    soup = BeautifulSoup(html_text, \"lxml\")\n",
    "    article = soup.find(\"div\", class_=\"container\")\n",
    "    title_text = article.h2.get_text()\n",
    "    hemisphere_name = title_text.split(\" Enhanced\")[0]\n",
    "    image_src = article.find(\"img\", class_=\"wide-image\")[\"src\"]\n",
    "    image_id = image_src.split(\"/\")[3].split(\"_enhanced.tif\")[0]\n",
    "    return {\n",
    "        \"title\": hemisphere_name,\n",
    "        \"img_url\": f\"https://astrogeology.usgs.gov/cache/images/{image_id}_enhanced.tif_full.jpg\",\n",
    "    }\n",
    "\n",
    "\n",
    "URL_ls = [URL_5, URL_6, URL_7, URL_8]\n",
    "hemisphere_image_url = [get_url_result(URL) for URL in URL_ls]\n",
    "hemisphere_image_url"
   ]
  }
 ],
 "metadata": {
  "kernelspec": {
   "display_name": "homework-10-mongo",
   "language": "python",
   "name": "python3"
  },
  "language_info": {
   "codemirror_mode": {
    "name": "ipython",
    "version": 3
   },
   "file_extension": ".py",
   "mimetype": "text/x-python",
   "name": "python",
   "nbconvert_exporter": "python",
   "pygments_lexer": "ipython3",
   "version": "3.7.4"
  }
 },
 "nbformat": 4,
 "nbformat_minor": 2
}
